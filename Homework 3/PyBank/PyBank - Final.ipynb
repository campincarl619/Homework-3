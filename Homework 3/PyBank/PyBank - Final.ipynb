{
 "cells": [
  {
   "cell_type": "code",
   "execution_count": 17,
   "metadata": {
    "collapsed": true
   },
   "outputs": [],
   "source": [
    "#cd Desktop\\Homework\\Homework\\Homework 3\\PyBank\n",
    "#python HMWK3.py\n",
    "\n",
    "import os\n",
    "import csv\n",
    "\n",
    "firstLine = True\n",
    "\n",
    "month = 0\n",
    "totRev = 0\n",
    "revReader = 0\n",
    "avgChange = 0\n",
    "prevRow = 0\n",
    "currRow = 0\n",
    "gIncTot = 0\n",
    "lIncTot = 0\n",
    "\n",
    "filePath1 = os.path.join(\"Resources\", \"budget_data_1.csv\")\n",
    "filePath2 = os.path.join(\"Resources\", \"budget_data_2.csv\")\n",
    "\n",
    "with open(filePath1) as csvfile:\n",
    "    line = csv.reader(csvfile)\n",
    "\n",
    "    for row in line:\n",
    "        \n",
    "        if firstLine:\n",
    "            firstLine = False            \n",
    "        else:\n",
    "            \n",
    "            date = row[0]\n",
    "            month = month + 1\n",
    "            revReader = int(row[1])\n",
    "            totRev = totRev + revReader\n",
    "            \n",
    "            if prevRow != 0:\n",
    "               \n",
    "                inc = int(row[1]) - int(prevRow)\n",
    "                \n",
    "                if inc > gIncTot:\n",
    "                    gIncTot = inc\n",
    "            \n",
    "                if inc < lIncTot:\n",
    "                    lIncTot = inc\n",
    "            \n",
    "            prevRow = row[1]\n",
    "            \n",
    "\n",
    "\n",
    "\n",
    "\n",
    "\n",
    "\n"
   ]
  },
  {
   "cell_type": "code",
   "execution_count": 18,
   "metadata": {
    "collapsed": true
   },
   "outputs": [],
   "source": [
    "firstLine = True\n",
    "with open(filePath2) as csvfile:\n",
    "    line = csv.reader(csvfile)\n",
    "\n",
    "    for row in line:\n",
    "        \n",
    "        if firstLine:\n",
    "            firstLine = False            \n",
    "        else:\n",
    "            \n",
    "            date = row[0]\n",
    "            month = month + 1\n",
    "            revReader = int(row[1])\n",
    "            totRev = totRev + revReader\n",
    "            \n",
    "            if prevRow != 0:\n",
    "               \n",
    "                inc = int(row[1]) - int(prevRow)\n",
    "                \n",
    "                if inc > gIncTot:\n",
    "                    gIncTot = inc\n",
    "            \n",
    "                if inc < lIncTot:\n",
    "                    lIncTot = inc\n",
    "            \n",
    "            prevRow = row[1]"
   ]
  },
  {
   "cell_type": "code",
   "execution_count": 19,
   "metadata": {
    "scrolled": true
   },
   "outputs": [
    {
     "name": "stdout",
     "output_type": "stream",
     "text": [
      "Financial Analysis\n",
      "--------------------------\n",
      "Total Months: 127\n",
      "Total Revenue: $55945323\n",
      "Average Revenue Change: $440514\n",
      "Greatest Increase in Revenue: 1837235\n",
      "Greatest Decrease in Revenue: -1947745\n"
     ]
    }
   ],
   "source": [
    "avgChange = totRev/month\n",
    "avgChange = int(avgChange)\n",
    "\n",
    "\n",
    "print(\"Financial Analysis\")\n",
    "print(\"--------------------------\")\n",
    "print(\"Total Months: \" + str(month))\n",
    "print(\"Total Revenue: $\" + str(totRev))\n",
    "print(\"Average Revenue Change: $\" + str(avgChange))\n",
    "print(\"Greatest Increase in Revenue: \" + str(gIncTot))\n",
    "print(\"Greatest Decrease in Revenue: \" + str(lIncTot))\n",
    "\n",
    "f = open('PyBank Output.txt','w')\n",
    "f.write(\"Financial Analysis\\n\")\n",
    "f.write(\"--------------------------\\n\")\n",
    "f.write(\"Total Months: \" + str(month) + \"\\n\")\n",
    "f.write(\"Total Revenue: $\" + str(totRev) + \"\\n\")\n",
    "f.write(\"Average Revenue Change: $\" + str(avgChange) + \"\\n\")\n",
    "f.write(\"Greatest Increase in Revenue: $\" + str(gIncTot) + \"\\n\")\n",
    "f.close()\n"
   ]
  },
  {
   "cell_type": "code",
   "execution_count": null,
   "metadata": {
    "collapsed": true
   },
   "outputs": [],
   "source": []
  },
  {
   "cell_type": "code",
   "execution_count": null,
   "metadata": {
    "collapsed": true
   },
   "outputs": [],
   "source": []
  }
 ],
 "metadata": {
  "kernelspec": {
   "display_name": "Python 3",
   "language": "python",
   "name": "python3"
  },
  "language_info": {
   "codemirror_mode": {
    "name": "ipython",
    "version": 3
   },
   "file_extension": ".py",
   "mimetype": "text/x-python",
   "name": "python",
   "nbconvert_exporter": "python",
   "pygments_lexer": "ipython3",
   "version": "3.6.3"
  }
 },
 "nbformat": 4,
 "nbformat_minor": 2
}
