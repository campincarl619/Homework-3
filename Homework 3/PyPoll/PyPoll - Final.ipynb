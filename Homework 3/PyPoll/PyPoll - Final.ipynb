{
 "cells": [
  {
   "cell_type": "code",
   "execution_count": 34,
   "metadata": {
    "collapsed": true
   },
   "outputs": [],
   "source": [
    "import os\n",
    "import csv\n",
    "\n",
    "politician = []\n",
    "votes = [0,0,0,0,0,0,0,0,0,0,0]\n",
    "totalVotes = 0\n",
    "tempVotes = 0\n",
    "\n",
    "firstline = True\n",
    "nameAdd = True\n",
    "\n",
    "filePath1 = os.path.join(\"raw_data\", \"election_data_2.csv\")"
   ]
  },
  {
   "cell_type": "code",
   "execution_count": 35,
   "metadata": {
    "scrolled": true
   },
   "outputs": [
    {
     "name": "stdout",
     "output_type": "stream",
     "text": [
      "Election Results\n",
      "-------------------------------\n",
      "Total Votes: 3521001\n",
      "-------------------------------\n",
      "Khan: 63.00% (2218231)\n",
      "Correy: 20.00% (704200)\n",
      "Li: 14.00% (492940)\n",
      "O'Tooley: 3.00% (105630)\n",
      "-------------------------------\n",
      "Winner: Khan\n",
      "-------------------------------\n"
     ]
    }
   ],
   "source": [
    "with open(filePath1) as csvfile:\n",
    "    line = csv.reader(csvfile)\n",
    "\n",
    "    for row in line:\n",
    "        if firstline:\n",
    "            firstline = False\n",
    "        else:\n",
    "            totalVotes += 1                 \n",
    "            lastName = row[2]\n",
    "            \n",
    "            if lastName not in politician:\n",
    "                politician.append(lastName)\n",
    "                \n",
    "            for i,j in enumerate(politician):\n",
    "                if j == lastName:\n",
    "                    tempVotes = votes[i]\n",
    "                    tempVotes += 1\n",
    "                    votes[i] = tempVotes\n",
    "                \n",
    "tempWinner = 0\n",
    "winner = 0\n",
    "\n",
    "print(\"Election Results\")\n",
    "print(\"-------------------------------\")\n",
    "print(\"Total Votes: \" + str(totalVotes))\n",
    "print(\"-------------------------------\")\n",
    "for p,q in enumerate(politician):\n",
    "    print(str(q) + \": \" + str(\"{0:.2f}\".format(votes[p]/totalVotes * 100)) +\"% (\" + str(votes[p]) + \")\") \n",
    "    tempWinner = int(votes[p])\n",
    "    if winner < tempWinner:\n",
    "        winner = tempWinner\n",
    "        winningName = str(q)\n",
    "print(\"-------------------------------\")\n",
    "print(\"Winner: \" + winningName)\n",
    "print(\"-------------------------------\")\n",
    "\n",
    "f = open('PyPoll Output.txt','w')\n",
    "f.write(\"Election Results\\n\")\n",
    "f.write(\"-------------------------------\\n\")\n",
    "f.write(\"Total Votes: \" + str(totalVotes) + \"\\n\")\n",
    "f.write(\"-------------------------------\\n\")\n",
    "for p,q in enumerate(politician):\n",
    "    f.write(str(q) + \": \" + str(\"{0:.2f}\".format(votes[p]/totalVotes * 100)) +\"% (\" + str(votes[p]) + \")\\n\") \n",
    "    tempWinner = int(votes[p])\n",
    "    if winner < tempWinner:\n",
    "        winner = tempWinner\n",
    "        winningName = str(q)\n",
    "f.write(\"-------------------------------\\n\")\n",
    "f.write(\"Winner: \" + winningName + \"\\n\")\n",
    "f.write(\"-------------------------------\\n\")\n",
    "f.close()"
   ]
  },
  {
   "cell_type": "code",
   "execution_count": null,
   "metadata": {
    "collapsed": true
   },
   "outputs": [],
   "source": []
  },
  {
   "cell_type": "code",
   "execution_count": null,
   "metadata": {
    "collapsed": true
   },
   "outputs": [],
   "source": []
  }
 ],
 "metadata": {
  "kernelspec": {
   "display_name": "Python 3",
   "language": "python",
   "name": "python3"
  },
  "language_info": {
   "codemirror_mode": {
    "name": "ipython",
    "version": 3
   },
   "file_extension": ".py",
   "mimetype": "text/x-python",
   "name": "python",
   "nbconvert_exporter": "python",
   "pygments_lexer": "ipython3",
   "version": "3.6.3"
  }
 },
 "nbformat": 4,
 "nbformat_minor": 2
}
